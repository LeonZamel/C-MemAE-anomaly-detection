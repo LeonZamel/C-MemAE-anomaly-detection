{
 "cells": [
  {
   "cell_type": "markdown",
   "source": [],
   "metadata": {}
  },
  {
   "cell_type": "code",
   "execution_count": null,
   "source": [
    "%load_ext autoreload\n",
    "%autoreload 2\n",
    "\n",
    "import sys; sys.path.insert(0, '..')\n",
    "import os\n",
    "import numpy as np\n",
    "import pandas as pd\n",
    "import seaborn as sns\n",
    "\n",
    "import glob\n",
    "import re\n",
    "import matplotlib.pyplot as plt\n",
    "\n",
    "import torch \n",
    "import pytorch_lightning as pl\n",
    "\n",
    "from systems.memae_autoencoder_system import MemaeSystem\n",
    "from models.conditional.conditional_memae_mnist import ConditionalMemaeMNIST\n",
    "from models.memae_mnist import MemaeMNIST\n",
    "from models.memae_mnist_flat import MemaeMNISTFlat\n",
    "from models.memae_cifar import MemaeCIFAR\n",
    "\n",
    "from helpers import select_target, get_sorted_checkpoints, load_memories_from_checkpoints, parse_runs, load_model_change_from_run_df, plot_multi\n",
    "\n",
    "import matplotlib\n",
    "OUTPUT_LATEX = True\n",
    "\n",
    "plt.style.use(\"default\")\n",
    "if OUTPUT_LATEX:\n",
    "    matplotlib.use(\"pdf\")\n",
    "    matplotlib.rcParams.update({\n",
    "        \"pgf.texsystem\": \"pdflatex\",\n",
    "        'font.family': 'serif',\n",
    "        'text.usetex': True,\n",
    "        'pgf.rcfonts': False,\n",
    "    })\n"
   ],
   "outputs": [],
   "metadata": {}
  },
  {
   "cell_type": "code",
   "execution_count": null,
   "source": [
    "# Specify the directories of the data that should be loaded.\n",
    "# All subfolders are automatically analyzed\n",
    "data_dirs = [\n",
    "]"
   ],
   "outputs": [],
   "metadata": {}
  },
  {
   "cell_type": "code",
   "execution_count": null,
   "source": [
    "# Load the data\n",
    "runs = parse_runs(data_dirs, [\"Seed\"]) # Always create a seed level\n",
    "df = load_model_change_from_run_df(runs)\n",
    "experiment_name = \"_\".join(filter(lambda x: x not in [\"Epoch\", \"Seed\"], df.index.names))\n",
    "df"
   ],
   "outputs": [],
   "metadata": {}
  },
  {
   "cell_type": "code",
   "execution_count": null,
   "source": [
    "mean_seed = df.unstack(level=\"Seed\").mean(axis=1, level=0)\n",
    "mean_seed"
   ],
   "outputs": [],
   "metadata": {}
  },
  {
   "cell_type": "code",
   "execution_count": null,
   "source": [
    "mean_classes = mean_seed.unstack().mean(axis=1, level=1)\n",
    "plt.figure(figsize=(12,3))\n",
    "g = sns.heatmap(mean_classes)\n",
    "g.set_yticklabels(labels=g.get_yticklabels(), va='center')\n",
    "#if OUTPUT_LATEX:\n",
    "#    plt.savefig(f\"{experiment_name}_memory_change_heatmap_by_epoch.pdf\", bbox_inches=\"tight\")\n",
    "plt.show()"
   ],
   "outputs": [],
   "metadata": {}
  },
  {
   "cell_type": "code",
   "execution_count": null,
   "source": [
    "mean_epochs = mean_seed.unstack().sum(axis=1, level=0)\n",
    "plt.figure(figsize=(12,3))\n",
    "g = sns.heatmap(mean_epochs)\n",
    "g.set_yticklabels(labels=g.get_yticklabels(), va='center')\n",
    "#if OUTPUT_LATEX:\n",
    "#    plt.savefig(f\"{experiment_name}_memory_change_heatmap_by_class.pdf\", bbox_inches=\"tight\")\n",
    "plt.show()"
   ],
   "outputs": [],
   "metadata": {}
  },
  {
   "cell_type": "code",
   "execution_count": null,
   "source": [
    "plot_multi(mean_classes, \"Memory Change\", margin_top=0.001, margin_bottom=0, bottom=0, save=True)"
   ],
   "outputs": [],
   "metadata": {}
  },
  {
   "cell_type": "code",
   "execution_count": null,
   "source": [
    "\n",
    "margin_top=0.0003\n",
    "margin_bottom=0\n",
    "bottom=0\n",
    "top=None\n",
    "save=True\n",
    "filename=\"Memory Change\"\n",
    "\n",
    "df = mean_classes.T\n",
    "df.index += 1\n",
    "\n",
    "min_score = df.min().min() - margin_bottom\n",
    "max_score = df.max().max() + margin_top\n",
    "\n",
    "if top is not None:\n",
    "    max_score = top\n",
    "if bottom is not None:\n",
    "    min_score = bottom\n",
    "\n",
    "\n",
    "plt.figure(figsize=(4,3))\n",
    "ax = plt.gca()\n",
    "ax.set_ylabel(\"Mean Memory Change\")\n",
    "ax.set_ylim([min_score, max_score])\n",
    "ax.set_xlim([0,100])\n",
    "df.plot(ax=ax)\n",
    "\n",
    "if save:\n",
    "    if not filename:\n",
    "        filename = f\"{datetime.now().strftime('%Y-%m-%d %H-%M-%S-%f')}{random.randint(0, 100000)}\"\n",
    "\n",
    "    plt.savefig(\n",
    "        f\"{filename}.pdf\",\n",
    "        bbox_inches=\"tight\",\n",
    "    )"
   ],
   "outputs": [],
   "metadata": {}
  },
  {
   "cell_type": "code",
   "execution_count": null,
   "source": [
    "mean_classes"
   ],
   "outputs": [],
   "metadata": {}
  }
 ],
 "metadata": {
  "kernelspec": {
   "display_name": "Python 3",
   "language": "python",
   "name": "python3"
  },
  "language_info": {
   "codemirror_mode": {
    "name": "ipython",
    "version": 3
   },
   "file_extension": ".py",
   "mimetype": "text/x-python",
   "name": "python",
   "nbconvert_exporter": "python",
   "pygments_lexer": "ipython3",
   "version": "3.8.10"
  }
 },
 "nbformat": 4,
 "nbformat_minor": 5
}