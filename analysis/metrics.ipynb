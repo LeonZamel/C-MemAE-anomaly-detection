{
 "cells": [
  {
   "cell_type": "code",
   "execution_count": null,
   "source": [
    "%load_ext autoreload\n",
    "%autoreload 2\n",
    "%matplotlib inline\n",
    "\n",
    "import sys; sys.path.insert(0, '..')\n",
    "import numpy as np\n",
    "import pandas as pd\n",
    "import seaborn as sns\n",
    "import matplotlib.pyplot as plt\n",
    "import matplotlib\n",
    "\n",
    "from helpers import parse_runs, load_scores_from_run_df, plot_multi\n",
    "\n",
    "OUTPUT_LATEX = True\n",
    "\n",
    "plt.style.use(\"default\")\n",
    "if OUTPUT_LATEX:\n",
    "    matplotlib.use(\"pdf\")\n",
    "    matplotlib.rcParams.update({\n",
    "        \"pgf.texsystem\": \"pdflatex\",\n",
    "        'font.family': 'serif',\n",
    "        'text.usetex': True,\n",
    "        'pgf.rcfonts': False,\n",
    "    })\n"
   ],
   "outputs": [],
   "metadata": {}
  },
  {
   "cell_type": "code",
   "execution_count": null,
   "source": [
    "# Specify the directories of the data that should be loaded.\n",
    "# All subfolders are automatically analyzed\n",
    "data_dirs = [\n",
    "]"
   ],
   "outputs": [],
   "metadata": {}
  },
  {
   "cell_type": "code",
   "execution_count": null,
   "source": [
    "# Load the data\n",
    "runs = parse_runs(data_dirs, \n",
    "    must_include_hyperparams=[\"Seed\"],  # Always create a seed level\n",
    "    ignore_hyperparams=[\"save_checkpoints_every_n_epochs\"]\n",
    ") \n",
    "df = load_scores_from_run_df(runs, must_be_same_length=True, metric=\"auroc\")\n",
    "experiment_name = \"_\".join(filter(lambda x: x not in [\"Epoch\", \"Seed\"], df.index.names))\n",
    "print(runs.index)\n",
    "df"
   ],
   "outputs": [],
   "metadata": {
    "tags": []
   }
  },
  {
   "cell_type": "code",
   "execution_count": null,
   "source": [
    "#df.index.rename(\"Previous Classes\", level=1, inplace=True)"
   ],
   "outputs": [],
   "metadata": {}
  },
  {
   "cell_type": "code",
   "execution_count": null,
   "source": [
    "# Get mean score auroc for hyperparameter combination over all targets and seeds. Maximum over all epochs\n",
    "scores_max_mean = df.unstack(level=\"Epoch\").max(axis=1, level=0).unstack(level=\"Seed\").mean(axis=1, level=0)\n",
    "scores_last_mean = df.groupby(list(filter(lambda x: x != \"Epoch\", df.index.names))).last().unstack(level=\"Seed\").mean(axis=1, level=0)\n",
    "\n",
    "scores = scores_max_mean.mean(axis=1)\n",
    "scores"
   ],
   "outputs": [],
   "metadata": {}
  },
  {
   "cell_type": "code",
   "execution_count": null,
   "source": [
    "scores_max_mean"
   ],
   "outputs": [],
   "metadata": {}
  },
  {
   "cell_type": "code",
   "execution_count": null,
   "source": [
    "if OUTPUT_LATEX:\n",
    "    scores.name=\"AUROC Score\"\n",
    "    scores.to_latex(f\"{experiment_name}_auroc_table.tex\", float_format=\"%.4f\")"
   ],
   "outputs": [],
   "metadata": {}
  },
  {
   "cell_type": "code",
   "execution_count": null,
   "source": [
    "plt.figure(figsize=(10,2))\n",
    "g = sns.heatmap(scores_max_mean, annot=True, fmt=\".3g\")\n",
    "g.set_yticklabels(labels=g.get_yticklabels(), va='center')\n",
    "for l in g.get_yticklabels():\n",
    "    l.set_ha(\"right\")\n",
    "    l.set_rotation(0)\n",
    "if OUTPUT_LATEX:\n",
    "    plt.savefig(f\"{experiment_name}_auroc_heatmap.pdf\", bbox_inches=\"tight\")\n",
    "plt.show()"
   ],
   "outputs": [],
   "metadata": {}
  },
  {
   "cell_type": "markdown",
   "source": [],
   "metadata": {}
  },
  {
   "cell_type": "code",
   "execution_count": null,
   "source": [
    "group_by = [\"Learning Rate\", \"Model Type\", \"Few-Shot Method\"]"
   ],
   "outputs": [],
   "metadata": {}
  },
  {
   "cell_type": "code",
   "execution_count": null,
   "source": [
    "grouped_scores = scores_max_mean.groupby(group_by).mean().mean(axis=1)\n",
    "if OUTPUT_LATEX:\n",
    "    grouped_scores.name=\"AUROC Score\"\n",
    "    grouped_scores.to_latex(f\"{experiment_name}_auroc_table.tex\", float_format=\"%.4f\")\n",
    "grouped_scores"
   ],
   "outputs": [],
   "metadata": {}
  },
  {
   "cell_type": "code",
   "execution_count": null,
   "source": [
    "for group_name, d in scores_max_mean.groupby(group_by):\n",
    "    for l in group_by:\n",
    "        d = d.droplevel(l)\n",
    "    #d = d.reindex([\"Plane\", \"Car\", \"Bird\", \"Cat\", \"Deer\", \"Dog\", \"Frog\", \"Horse\", \"Ship\", \"Truck\"])\n",
    "    plt.figure()\n",
    "    ax = plt.gca()\n",
    "    g = sns.heatmap(d, annot=True, fmt=\".3g\", ax=ax, vmin=scores_max_mean.min().min(), vmax=scores_max_mean.max().max())\n",
    "    g.set_yticklabels(labels=g.get_yticklabels(), va='center')\n",
    "    for l in g.get_yticklabels():\n",
    "        l.set_ha(\"right\")\n",
    "        l.set_rotation(0)\n",
    "    title = \" - \".join(map(str, group_name))\n",
    "    ax.set_title(title)\n",
    "    if OUTPUT_LATEX:\n",
    "        plt.savefig(f\"{title}.pdf\", bbox_inches=\"tight\")\n",
    "    plt.show()"
   ],
   "outputs": [],
   "metadata": {
    "tags": []
   }
  },
  {
   "cell_type": "code",
   "execution_count": null,
   "source": [
    "# Take mean over seeds\n",
    "scores_mean_seeds = df.unstack(level=\"Seed\").mean(axis=1, level=0)#.unstack(level=\"Previous Class\").mean(axis=1, level=0)\n",
    "\n",
    "plot_multi(scores_mean_seeds, \"AUROC Score\", bottom=0.4, top=0.74, legend_loc=\"lower right\", save=True)"
   ],
   "outputs": [],
   "metadata": {
    "tags": []
   }
  },
  {
   "cell_type": "code",
   "execution_count": null,
   "source": [],
   "outputs": [],
   "metadata": {}
  }
 ],
 "metadata": {
  "kernelspec": {
   "display_name": "Python 3",
   "language": "python",
   "name": "python3"
  },
  "language_info": {
   "codemirror_mode": {
    "name": "ipython",
    "version": 3
   },
   "file_extension": ".py",
   "mimetype": "text/x-python",
   "name": "python",
   "nbconvert_exporter": "python",
   "pygments_lexer": "ipython3",
   "version": "3.8.10"
  }
 },
 "nbformat": 4,
 "nbformat_minor": 5
}